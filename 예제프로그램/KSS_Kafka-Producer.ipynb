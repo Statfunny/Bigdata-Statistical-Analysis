{
 "cells": [
  {
   "cell_type": "code",
   "execution_count": 1,
   "id": "be297bfc",
   "metadata": {},
   "outputs": [],
   "source": [
    "# !pip install kafka-python\n",
    "\n",
    "from time import sleep\n",
    "import json\n",
    "from kafka import KafkaProducer\n",
    "from datetime import datetime"
   ]
  },
  {
   "cell_type": "code",
   "execution_count": 10,
   "id": "b3d131b7",
   "metadata": {},
   "outputs": [],
   "source": [
    "topic_name = \"testevent\"\n",
    "producer = KafkaProducer(bootstrap_servers=['localhost:9092'])"
   ]
  },
  {
   "cell_type": "code",
   "execution_count": 11,
   "id": "0458ddfb",
   "metadata": {},
   "outputs": [
    {
     "data": {
      "text/plain": [
       "<kafka.producer.future.FutureRecordMetadata at 0x16574db5ca0>"
      ]
     },
     "execution_count": 11,
     "metadata": {},
     "output_type": "execute_result"
    }
   ],
   "source": [
    "producer.send(topic_name,b\"Hello, Kafka\")"
   ]
  },
  {
   "cell_type": "code",
   "execution_count": 12,
   "id": "36d81b30",
   "metadata": {},
   "outputs": [
    {
     "data": {
      "text/plain": [
       "datetime.datetime(2023, 6, 28, 21, 48, 38, 40539)"
      ]
     },
     "execution_count": 12,
     "metadata": {},
     "output_type": "execute_result"
    }
   ],
   "source": [
    "now = datetime.now()\n",
    "now"
   ]
  },
  {
   "cell_type": "code",
   "execution_count": 13,
   "id": "8f7c0445",
   "metadata": {},
   "outputs": [
    {
     "data": {
      "text/plain": [
       "'28/06/2023 21:48:38'"
      ]
     },
     "execution_count": 13,
     "metadata": {},
     "output_type": "execute_result"
    }
   ],
   "source": [
    "current_time = now.strftime(\"%d/%m/%Y %H:%M:%S\")\n",
    "current_time"
   ]
  },
  {
   "cell_type": "code",
   "execution_count": 14,
   "id": "b1b39e15",
   "metadata": {},
   "outputs": [
    {
     "name": "stdout",
     "output_type": "stream",
     "text": [
      "Message sent  0\n",
      "Message sent  1\n",
      "Message sent  2\n",
      "Message sent  3\n",
      "Message sent  4\n",
      "Message sent  5\n",
      "Message sent  6\n",
      "Message sent  7\n",
      "Message sent  8\n",
      "Message sent  9\n"
     ]
    }
   ],
   "source": [
    "for i in range(10):\n",
    "    message = \"Message {}\".format(str(datetime.now().time()))\n",
    "    producer.send(topic_name,json.dumps(message).encode('utf-8'))\n",
    "    sleep(3)\n",
    "    print(\"Message sent \",i)\n",
    "    "
   ]
  },
  {
   "cell_type": "code",
   "execution_count": null,
   "id": "efe0c8c0",
   "metadata": {},
   "outputs": [],
   "source": [
    "producer.close()"
   ]
  },
  {
   "cell_type": "code",
   "execution_count": null,
   "id": "15990434",
   "metadata": {},
   "outputs": [],
   "source": []
  }
 ],
 "metadata": {
  "kernelspec": {
   "display_name": "Python 3 (ipykernel)",
   "language": "python",
   "name": "python3"
  },
  "language_info": {
   "codemirror_mode": {
    "name": "ipython",
    "version": 3
   },
   "file_extension": ".py",
   "mimetype": "text/x-python",
   "name": "python",
   "nbconvert_exporter": "python",
   "pygments_lexer": "ipython3",
   "version": "3.8.10"
  }
 },
 "nbformat": 4,
 "nbformat_minor": 5
}
